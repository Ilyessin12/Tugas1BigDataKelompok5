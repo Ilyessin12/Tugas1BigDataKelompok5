{
 "cells": [
  {
   "cell_type": "markdown",
   "metadata": {},
   "source": [
    "### Insert Library"
   ]
  },
  {
   "cell_type": "code",
   "execution_count": 1,
   "metadata": {},
   "outputs": [],
   "source": [
    "import requests\n",
    "from bs4 import BeautifulSoup\n",
    "from selenium import webdriver\n",
    "from selenium.webdriver.chrome.service import Service\n",
    "from selenium.webdriver.chrome.options import Options\n",
    "from selenium.webdriver.common.by import By\n",
    "from selenium.webdriver.support.ui import WebDriverWait\n",
    "from selenium.webdriver.support import expected_conditions as EC\n",
    "import time\n",
    "import json\n",
    "from datetime import datetime\n",
    "import pandas as pd"
   ]
  },
  {
   "cell_type": "markdown",
   "metadata": {},
   "source": [
    "### Pencarian list emiten menggunakan chrome webdriver"
   ]
  },
  {
   "cell_type": "code",
   "execution_count": 2,
   "metadata": {},
   "outputs": [
    {
     "name": "stdout",
     "output_type": "stream",
     "text": [
      "Successfully selected 'All' from the dropdown\n",
      "Scraping all emitens...\n",
      "Found 951 emitens in total\n",
      "Saved 951 emitens to emiten_list.json\n"
     ]
    }
   ],
   "source": [
    "# Set up the WebDriver\n",
    "driver = webdriver.Chrome()\n",
    "\n",
    "# Go to IDX Stock List page\n",
    "driver.get(\"https://www.idx.co.id/data-pasar/data-saham/daftar-saham/\")\n",
    "\n",
    "# Wait for table to load\n",
    "try:\n",
    "    WebDriverWait(driver, 15).until(EC.presence_of_element_located((By.ID, \"vgt-table\")))\n",
    "except Exception as e:\n",
    "    print(f\"Timeout waiting for tables to load: {e}\")\n",
    "\n",
    "# Find and interact with the dropdown to select \"all\" items per page\n",
    "try:\n",
    "    # Find the select element using the correct class\n",
    "    select_element = WebDriverWait(driver, 10).until(\n",
    "        EC.presence_of_element_located((By.CSS_SELECTOR, \".footer__row-count__select\"))\n",
    "    )\n",
    "    \n",
    "    # Use Select class to interact with the dropdown\n",
    "    from selenium.webdriver.support.ui import Select\n",
    "    select = Select(select_element)\n",
    "    \n",
    "    # Select \"All\" option which has value=\"-1\"\n",
    "    select.select_by_value(\"-1\")\n",
    "    \n",
    "    # Wait longer for the table to refresh with all items\n",
    "    time.sleep(5)\n",
    "    \n",
    "    print(\"Successfully selected 'All' from the dropdown\")\n",
    "except Exception as e:\n",
    "    print(f\"Error interacting with dropdown: {e}\")\n",
    "    driver.save_screenshot(\"dropdown_error.png\")\n",
    "\n",
    "# Now parse the page with all emitens displayed\n",
    "print(\"Scraping all emitens...\")\n",
    "soup = BeautifulSoup(driver.page_source, \"html.parser\")\n",
    "table = soup.find('table', {'id': 'vgt-table'})\n",
    "\n",
    "emiten_list = []\n",
    "if table:\n",
    "    rows = table.find_all('tr')\n",
    "    \n",
    "    for row in rows[1:]:  # Skip header row\n",
    "        cells = row.find_all('td')\n",
    "        if cells and len(cells) > 0:\n",
    "            ticker = cells[0].text.strip()\n",
    "            if ticker:  # Make sure we got a valid ticker\n",
    "                emiten_list.append(f\"{ticker}.JK\")\n",
    "    \n",
    "    print(f\"Found {len(emiten_list)} emitens in total\")\n",
    "else:\n",
    "    print(\"No table found on this page\")\n",
    "\n",
    "# Save with nice formatting\n",
    "with open('emiten_list.json', 'w') as file:\n",
    "    json.dump(emiten_list, file, indent=4)\n",
    "\n",
    "print(f\"Saved {len(emiten_list)} emitens to emiten_list.json\")\n",
    "driver.quit()"
   ]
  }
 ],
 "metadata": {
  "kernelspec": {
   "display_name": "Python 3",
   "language": "python",
   "name": "python3"
  },
  "language_info": {
   "codemirror_mode": {
    "name": "ipython",
    "version": 3
   },
   "file_extension": ".py",
   "mimetype": "text/x-python",
   "name": "python",
   "nbconvert_exporter": "python",
   "pygments_lexer": "ipython3",
   "version": "3.10.6"
  }
 },
 "nbformat": 4,
 "nbformat_minor": 2
}
